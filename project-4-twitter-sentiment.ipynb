{
 "cells": [
  {
   "cell_type": "markdown",
   "metadata": {},
   "source": [
    "# <ins> Project 4 Twitter Sentiment<ins>\n"
   ]
  },
  {
   "cell_type": "markdown",
   "metadata": {},
   "source": [
    "\n",
    "## Business Understanding\n",
    "Tasked with creating a machine learning model that can properly identify tweets as positive to allow our marketing team to see the effects of their "
   ]
  },
  {
   "cell_type": "markdown",
   "metadata": {},
   "source": [
    "## Data Understanding\n",
    "\n",
    "Data is taken from [data.world](\"https://data.world/crowdflower/brands-and-product-emotions/workspace/file?filename=judge-1377884607_tweet_product_company.csv\"). According to their website \"Contributors evaluated tweets about multiple brands and products. The crowd was asked if the tweet expressed positive, negative, or no emotion towards a brand and/or product. If some emotion was expressed they were also asked to say which brand or product was the target of that emotion. Added: August 30, 2013 by Kent Cavender-Bares | Data Rows: 9093\""
   ]
  },
  {
   "cell_type": "code",
   "execution_count": 198,
   "metadata": {},
   "outputs": [],
   "source": [
    "import sklearn\n",
    "import imblearn\n",
    "import pandas as pd\n",
    "import numpy as np\n",
    "import matplotlib.pyplot as plt\n",
    "import nltk\n",
    "from nltk.probability import FreqDist\n",
    "from nltk.corpus import stopwords\n",
    "from nltk import pos_tag\n",
    "from nltk.corpus import wordnet\n",
    "from nltk.stem import WordNetLemmatizer\n",
    "from nltk.tokenize import TweetTokenizer, regexp_tokenize\n",
    "from nltk.util import bigrams\n",
    "from sklearn.feature_extraction.text import CountVectorizer\n",
    "from sklearn.feature_extraction.text import TfidfVectorizer\n",
    "from sklearn.model_selection import train_test_split, GridSearchCV\n",
    "from sklearn.linear_model import LogisticRegression\n",
    "from sklearn.naive_bayes import MultinomialNB\n",
    "from sklearn.ensemble import RandomForestClassifier\n",
    "from sklearn.metrics import accuracy_score, classification_report, confusion_matrix, ConfusionMatrixDisplay\n",
    "from nltk.sentiment import SentimentIntensityAnalyzer\n",
    "from sklearn.pipeline import Pipeline\n",
    "from imblearn.over_sampling import RandomOverSampler\n",
    "import re"
   ]
  },
  {
   "cell_type": "code",
   "execution_count": 133,
   "metadata": {},
   "outputs": [],
   "source": [
    "## Data Preparation\n",
    "df = pd.read_csv(\"data/judge-1377884607_tweet_product_company.csv\", encoding='latin1')"
   ]
  },
  {
   "cell_type": "code",
   "execution_count": 134,
   "metadata": {
    "scrolled": false
   },
   "outputs": [
    {
     "data": {
      "text/html": [
       "<div>\n",
       "<style scoped>\n",
       "    .dataframe tbody tr th:only-of-type {\n",
       "        vertical-align: middle;\n",
       "    }\n",
       "\n",
       "    .dataframe tbody tr th {\n",
       "        vertical-align: top;\n",
       "    }\n",
       "\n",
       "    .dataframe thead th {\n",
       "        text-align: right;\n",
       "    }\n",
       "</style>\n",
       "<table border=\"1\" class=\"dataframe\">\n",
       "  <thead>\n",
       "    <tr style=\"text-align: right;\">\n",
       "      <th></th>\n",
       "      <th>tweet_text</th>\n",
       "      <th>emotion_in_tweet_is_directed_at</th>\n",
       "      <th>is_there_an_emotion_directed_at_a_brand_or_product</th>\n",
       "    </tr>\n",
       "  </thead>\n",
       "  <tbody>\n",
       "    <tr>\n",
       "      <th>0</th>\n",
       "      <td>.@wesley83 I have a 3G iPhone. After 3 hrs twe...</td>\n",
       "      <td>iPhone</td>\n",
       "      <td>Negative emotion</td>\n",
       "    </tr>\n",
       "    <tr>\n",
       "      <th>1</th>\n",
       "      <td>@jessedee Know about @fludapp ? Awesome iPad/i...</td>\n",
       "      <td>iPad or iPhone App</td>\n",
       "      <td>Positive emotion</td>\n",
       "    </tr>\n",
       "    <tr>\n",
       "      <th>2</th>\n",
       "      <td>@swonderlin Can not wait for #iPad 2 also. The...</td>\n",
       "      <td>iPad</td>\n",
       "      <td>Positive emotion</td>\n",
       "    </tr>\n",
       "    <tr>\n",
       "      <th>3</th>\n",
       "      <td>@sxsw I hope this year's festival isn't as cra...</td>\n",
       "      <td>iPad or iPhone App</td>\n",
       "      <td>Negative emotion</td>\n",
       "    </tr>\n",
       "    <tr>\n",
       "      <th>4</th>\n",
       "      <td>@sxtxstate great stuff on Fri #SXSW: Marissa M...</td>\n",
       "      <td>Google</td>\n",
       "      <td>Positive emotion</td>\n",
       "    </tr>\n",
       "    <tr>\n",
       "      <th>...</th>\n",
       "      <td>...</td>\n",
       "      <td>...</td>\n",
       "      <td>...</td>\n",
       "    </tr>\n",
       "    <tr>\n",
       "      <th>9088</th>\n",
       "      <td>Ipad everywhere. #SXSW {link}</td>\n",
       "      <td>iPad</td>\n",
       "      <td>Positive emotion</td>\n",
       "    </tr>\n",
       "    <tr>\n",
       "      <th>9089</th>\n",
       "      <td>Wave, buzz... RT @mention We interrupt your re...</td>\n",
       "      <td>NaN</td>\n",
       "      <td>No emotion toward brand or product</td>\n",
       "    </tr>\n",
       "    <tr>\n",
       "      <th>9090</th>\n",
       "      <td>Google's Zeiger, a physician never reported po...</td>\n",
       "      <td>NaN</td>\n",
       "      <td>No emotion toward brand or product</td>\n",
       "    </tr>\n",
       "    <tr>\n",
       "      <th>9091</th>\n",
       "      <td>Some Verizon iPhone customers complained their...</td>\n",
       "      <td>NaN</td>\n",
       "      <td>No emotion toward brand or product</td>\n",
       "    </tr>\n",
       "    <tr>\n",
       "      <th>9092</th>\n",
       "      <td>Ï¡Ïàü_ÊÎÒ£Áââ_£â_ÛâRT @...</td>\n",
       "      <td>NaN</td>\n",
       "      <td>No emotion toward brand or product</td>\n",
       "    </tr>\n",
       "  </tbody>\n",
       "</table>\n",
       "<p>9093 rows × 3 columns</p>\n",
       "</div>"
      ],
      "text/plain": [
       "                                             tweet_text  \\\n",
       "0     .@wesley83 I have a 3G iPhone. After 3 hrs twe...   \n",
       "1     @jessedee Know about @fludapp ? Awesome iPad/i...   \n",
       "2     @swonderlin Can not wait for #iPad 2 also. The...   \n",
       "3     @sxsw I hope this year's festival isn't as cra...   \n",
       "4     @sxtxstate great stuff on Fri #SXSW: Marissa M...   \n",
       "...                                                 ...   \n",
       "9088                      Ipad everywhere. #SXSW {link}   \n",
       "9089  Wave, buzz... RT @mention We interrupt your re...   \n",
       "9090  Google's Zeiger, a physician never reported po...   \n",
       "9091  Some Verizon iPhone customers complained their...   \n",
       "9092  Ï¡Ïàü_ÊÎÒ£Áââ_£â_ÛâRT @...   \n",
       "\n",
       "     emotion_in_tweet_is_directed_at  \\\n",
       "0                             iPhone   \n",
       "1                 iPad or iPhone App   \n",
       "2                               iPad   \n",
       "3                 iPad or iPhone App   \n",
       "4                             Google   \n",
       "...                              ...   \n",
       "9088                            iPad   \n",
       "9089                             NaN   \n",
       "9090                             NaN   \n",
       "9091                             NaN   \n",
       "9092                             NaN   \n",
       "\n",
       "     is_there_an_emotion_directed_at_a_brand_or_product  \n",
       "0                                      Negative emotion  \n",
       "1                                      Positive emotion  \n",
       "2                                      Positive emotion  \n",
       "3                                      Negative emotion  \n",
       "4                                      Positive emotion  \n",
       "...                                                 ...  \n",
       "9088                                   Positive emotion  \n",
       "9089                 No emotion toward brand or product  \n",
       "9090                 No emotion toward brand or product  \n",
       "9091                 No emotion toward brand or product  \n",
       "9092                 No emotion toward brand or product  \n",
       "\n",
       "[9093 rows x 3 columns]"
      ]
     },
     "execution_count": 134,
     "metadata": {},
     "output_type": "execute_result"
    }
   ],
   "source": [
    "df "
   ]
  },
  {
   "cell_type": "code",
   "execution_count": 135,
   "metadata": {
    "scrolled": false
   },
   "outputs": [
    {
     "name": "stdout",
     "output_type": "stream",
     "text": [
      "<class 'pandas.core.frame.DataFrame'>\n",
      "RangeIndex: 9093 entries, 0 to 9092\n",
      "Data columns (total 3 columns):\n",
      " #   Column                                              Non-Null Count  Dtype \n",
      "---  ------                                              --------------  ----- \n",
      " 0   tweet_text                                          9092 non-null   object\n",
      " 1   emotion_in_tweet_is_directed_at                     3291 non-null   object\n",
      " 2   is_there_an_emotion_directed_at_a_brand_or_product  9093 non-null   object\n",
      "dtypes: object(3)\n",
      "memory usage: 213.2+ KB\n"
     ]
    }
   ],
   "source": [
    "df.info()"
   ]
  },
  {
   "cell_type": "markdown",
   "metadata": {},
   "source": [
    "There are 5802 values that are missing in is there an emotion directed at a brand or product column, one missing in the first column which we will drop and 0 missing in the last column. In addition, there are many values that we will want to fill in as we go through data cleaning because they are mislabeled as neutral but contain an emotion."
   ]
  },
  {
   "cell_type": "code",
   "execution_count": 139,
   "metadata": {},
   "outputs": [
    {
     "data": {
      "text/plain": [
       "0"
      ]
     },
     "execution_count": 139,
     "metadata": {},
     "output_type": "execute_result"
    }
   ],
   "source": [
    "#dropping tweets that have no values cause it is useless to us\n",
    "df = df.iloc[:-1]  #Drops the last row\n",
    "df = df.dropna(subset=['tweet_text'])\n",
    "df['tweet_text'].isna().sum()"
   ]
  },
  {
   "cell_type": "markdown",
   "metadata": {},
   "source": [
    "### Data Cleaning\n",
    "Our first step will be tokenizing the first column, in order to do so we will need to convert our columns from object data types to strings, convert all words to lower case for uniformity and remove unnecessary symbols. "
   ]
  },
  {
   "cell_type": "code",
   "execution_count": 140,
   "metadata": {
    "scrolled": false
   },
   "outputs": [
    {
     "name": "stdout",
     "output_type": "stream",
     "text": [
      "<class 'str'>\n"
     ]
    }
   ],
   "source": [
    "# Checking to make sure Dtype is string type for tokenizing\n",
    "print(type(df['tweet_text'].iloc[13]))"
   ]
  },
  {
   "cell_type": "code",
   "execution_count": 141,
   "metadata": {},
   "outputs": [],
   "source": [
    "tweet_tokenizer = TweetTokenizer(preserve_case=True)"
   ]
  },
  {
   "cell_type": "code",
   "execution_count": 142,
   "metadata": {
    "scrolled": false
   },
   "outputs": [
    {
     "name": "stdout",
     "output_type": "stream",
     "text": [
      "                                             tweet_text  \\\n",
      "0     .@wesley83 I have a 3G iPhone. After 3 hrs twe...   \n",
      "1     @jessedee Know about @fludapp ? Awesome iPad/i...   \n",
      "2     @swonderlin Can not wait for #iPad 2 also. The...   \n",
      "3     @sxsw I hope this year's festival isn't as cra...   \n",
      "4     @sxtxstate great stuff on Fri #SXSW: Marissa M...   \n",
      "...                                                 ...   \n",
      "9087  @mention Yup, but I don't have a third app yet...   \n",
      "9088                      Ipad everywhere. #SXSW {link}   \n",
      "9089  Wave, buzz... RT @mention We interrupt your re...   \n",
      "9090  Google's Zeiger, a physician never reported po...   \n",
      "9091  Some Verizon iPhone customers complained their...   \n",
      "\n",
      "                                           tweet_tokens  \n",
      "0     [., @wesley83, I, have, a, 3G, iPhone, ., Afte...  \n",
      "1     [@jessedee, Know, about, @fludapp, ?, Awesome,...  \n",
      "2     [@swonderlin, Can, not, wait, for, #iPad, 2, a...  \n",
      "3     [@sxsw, I, hope, this, year's, festival, isn't...  \n",
      "4     [@sxtxstate, great, stuff, on, Fri, #SXSW, :, ...  \n",
      "...                                                 ...  \n",
      "9087  [@mention, Yup, ,, but, I, don't, have, a, thi...  \n",
      "9088           [Ipad, everywhere, ., #SXSW, {, link, }]  \n",
      "9089  [Wave, ,, buzz, ..., RT, @mention, We, interru...  \n",
      "9090  [Google's, Zeiger, ,, a, physician, never, rep...  \n",
      "9091  [Some, Verizon, iPhone, customers, complained,...  \n",
      "\n",
      "[9091 rows x 2 columns]\n"
     ]
    }
   ],
   "source": [
    "df = df.copy()\n",
    "df['tweet_tokens'] = df['tweet_text'].astype(str).apply(lambda x: tweet_tokenizer.tokenize(x))\n",
    "\n",
    "# Display the DataFrame\n",
    "print(df[['tweet_text', 'tweet_tokens']])"
   ]
  },
  {
   "cell_type": "code",
   "execution_count": 143,
   "metadata": {},
   "outputs": [
    {
     "name": "stdout",
     "output_type": "stream",
     "text": [
      "[<class 'list'>]\n"
     ]
    }
   ],
   "source": [
    "print(df['tweet_tokens'].apply(type).unique())  # Should only show <class 'list'>"
   ]
  },
  {
   "cell_type": "code",
   "execution_count": 144,
   "metadata": {},
   "outputs": [],
   "source": [
    "# Gettings list of stop words\n",
    "stop_words = set(stopwords.words('english'))"
   ]
  },
  {
   "cell_type": "code",
   "execution_count": 145,
   "metadata": {},
   "outputs": [],
   "source": [
    "#lower casing all tokens in tweet_tokens\n",
    "df['filtered'] = df['tweet_tokens'].apply(lambda tokens: [token.lower() for token in tokens])"
   ]
  },
  {
   "cell_type": "code",
   "execution_count": 146,
   "metadata": {},
   "outputs": [
    {
     "data": {
      "text/plain": [
       "0    [., @wesley83, i, have, a, 3g, iphone, ., afte...\n",
       "1    [@jessedee, know, about, @fludapp, ?, awesome,...\n",
       "2    [@swonderlin, can, not, wait, for, #ipad, 2, a...\n",
       "3    [@sxsw, i, hope, this, year's, festival, isn't...\n",
       "4    [@sxtxstate, great, stuff, on, fri, #sxsw, :, ...\n",
       "Name: filtered, dtype: object"
      ]
     },
     "execution_count": 146,
     "metadata": {},
     "output_type": "execute_result"
    }
   ],
   "source": [
    "df['filtered'].head()"
   ]
  },
  {
   "cell_type": "code",
   "execution_count": 147,
   "metadata": {
    "scrolled": true
   },
   "outputs": [
    {
     "name": "stdout",
     "output_type": "stream",
     "text": [
      "                                        tweet_tokens  \\\n",
      "0  [., @wesley83, I, have, a, 3G, iPhone, ., Afte...   \n",
      "1  [@jessedee, Know, about, @fludapp, ?, Awesome,...   \n",
      "2  [@swonderlin, Can, not, wait, for, #iPad, 2, a...   \n",
      "3  [@sxsw, I, hope, this, year's, festival, isn't...   \n",
      "4  [@sxtxstate, great, stuff, on, Fri, #SXSW, :, ...   \n",
      "\n",
      "                                     filtered_tokens  \n",
      "0  [., @wesley83, 3g, iphone, ., 3, hrs, tweeting...  \n",
      "1  [@jessedee, know, @fludapp, ?, awesome, ipad, ...  \n",
      "2  [@swonderlin, wait, #ipad, 2, also, ., sale, #...  \n",
      "3  [@sxsw, hope, year's, festival, crashy, year's...  \n",
      "4  [@sxtxstate, great, stuff, fri, #sxsw, :, mari...  \n"
     ]
    }
   ],
   "source": [
    "# Remove stopwords from the 'tweet_tokens' column\n",
    "df['filtered_tokens'] = df['filtered'].apply(\n",
    "    lambda tokens: [token for token in tokens if token not in stop_words]\n",
    ")\n",
    "\n",
    "# Check the result\n",
    "print(df[['tweet_tokens', 'filtered_tokens']].head())"
   ]
  },
  {
   "cell_type": "code",
   "execution_count": 148,
   "metadata": {
    "scrolled": true
   },
   "outputs": [
    {
     "name": "stdout",
     "output_type": "stream",
     "text": [
      "                                      filtered_tokens  \\\n",
      "0   [., @wesley83, 3g, iphone, ., 3, hrs, tweeting...   \n",
      "1   [@jessedee, know, @fludapp, ?, awesome, ipad, ...   \n",
      "2   [@swonderlin, wait, #ipad, 2, also, ., sale, #...   \n",
      "3   [@sxsw, hope, year's, festival, crashy, year's...   \n",
      "4   [@sxtxstate, great, stuff, fri, #sxsw, :, mari...   \n",
      "5   [@teachntech00, new, ipad, apps, #speechtherap...   \n",
      "7   [#sxsw, starting, ,, #ctia, around, corner, #g...   \n",
      "8   [beautifully, smart, simple, idea, rt, @madeby...   \n",
      "9   [counting, days, #sxsw, plus, strong, canadian...   \n",
      "10  [excited, meet, @samsungmobileus, #sxsw, show,...   \n",
      "\n",
      "                                         clean_tokens  \n",
      "0   [wesley, g, iphone, hrs, tweeting, riseaustin,...  \n",
      "1   [jessedee, know, fludapp, awesome, ipad, iphon...  \n",
      "2          [swonderlin, wait, ipad, also, sale, sxsw]  \n",
      "3   [sxsw, hope, years, festival, crashy, years, i...  \n",
      "4   [sxtxstate, great, stuff, fri, sxsw, marissa, ...  \n",
      "5   [teachntech, new, ipad, apps, speechtherapy, c...  \n",
      "7   [sxsw, starting, ctia, around, corner, googlei...  \n",
      "8   [beautifully, smart, simple, idea, rt, madebym...  \n",
      "9   [counting, days, sxsw, plus, strong, canadian,...  \n",
      "10  [excited, meet, samsungmobileus, sxsw, show, s...  \n"
     ]
    }
   ],
   "source": [
    "# Remove punctuation while keeping words, numbers, @mentions, and #hashtags\n",
    "#df['clean_tokens'] = df['filtered_tokens'].apply(\n",
    "#    lambda tokens: [re.sub(r'[^\\w#@]', '', token) for token in tokens if re.sub(r'[^\\w#@]', '', token)]\n",
    "#)\n",
    "\n",
    "df['clean_tokens'] = df['filtered_tokens'].apply(\n",
    "    lambda tokens: [re.sub(r'[\\d\\W_]+', '', token) for token in tokens if re.sub(r'[\\d\\W_]+', '', token)]\n",
    ")\n",
    "\n",
    "print(df[['filtered_tokens', 'clean_tokens']].head(10))"
   ]
  },
  {
   "cell_type": "code",
   "execution_count": 149,
   "metadata": {},
   "outputs": [],
   "source": [
    "def flatten_tokens(df, column_name):\n",
    "    \"\"\"\n",
    "    Flattens a DataFrame column containing lists of tokens into a single list of all tokens.\n",
    "\n",
    "    Args:\n",
    "    df (pd.DataFrame): The DataFrame containing the column to flatten.\n",
    "    column_name (str): The name of the column containing lists of tokens.\n",
    "\n",
    "    Returns:\n",
    "    list: A flattened list of all tokens from the column.\n",
    "    \"\"\"\n",
    "    return [token for tokens in df[column_name] for token in tokens]"
   ]
  },
  {
   "cell_type": "code",
   "execution_count": 150,
   "metadata": {},
   "outputs": [],
   "source": [
    "all_tokens = flatten_tokens(df, 'clean_tokens')"
   ]
  },
  {
   "cell_type": "code",
   "execution_count": 151,
   "metadata": {},
   "outputs": [],
   "source": [
    "freqdist = FreqDist(all_tokens)"
   ]
  },
  {
   "cell_type": "code",
   "execution_count": 152,
   "metadata": {
    "scrolled": true
   },
   "outputs": [
    {
     "name": "stdout",
     "output_type": "stream",
     "text": [
      "[('sxsw', 9623), ('mention', 7123), ('link', 4312), ('ipad', 2981), ('rt', 2966), ('google', 2458), ('apple', 2227), ('iphone', 1578), ('store', 1480), ('new', 1090), ('austin', 957), ('app', 820), ('circles', 674), ('launch', 653), ('social', 649), ('popup', 630), ('android', 592), ('today', 574), ('network', 466), ('via', 436)]\n"
     ]
    },
    {
     "data": {
      "image/png": "[encoded data removed]",
      "text/plain": [
       "<Figure size 432x288 with 1 Axes>"
      ]
     },
     "metadata": {
      "needs_background": "light"
     },
     "output_type": "display_data"
    }
   ],
   "source": [
    "# most common 20 words\n",
    "print(freqdist.most_common(20))\n",
    "# Plot the top 10 words\n",
    "freqdist.plot(10, title=\"Top 10 Most Frequent Words\")\n",
    "plt.show()"
   ]
  },
  {
   "cell_type": "code",
   "execution_count": 153,
   "metadata": {},
   "outputs": [],
   "source": [
    "all_tokens_tagged = pos_tag(all_tokens)"
   ]
  },
  {
   "cell_type": "code",
   "execution_count": 154,
   "metadata": {},
   "outputs": [],
   "source": [
    "def get_wordnet_pos(treebank_tag):\n",
    "    return {\"J\": wordnet.ADJ, \"V\": wordnet.VERB, \"N\": wordnet.NOUN, \"R\": wordnet.ADV}.get(treebank_tag[0], wordnet.NOUN)\n",
    "                      "
   ]
  },
  {
   "cell_type": "code",
   "execution_count": 155,
   "metadata": {},
   "outputs": [
    {
     "name": "stdout",
     "output_type": "stream",
     "text": [
      "                                        clean_tokens  \\\n",
      "0  [wesley, g, iphone, hrs, tweeting, riseaustin,...   \n",
      "1  [jessedee, know, fludapp, awesome, ipad, iphon...   \n",
      "2         [swonderlin, wait, ipad, also, sale, sxsw]   \n",
      "3  [sxsw, hope, years, festival, crashy, years, i...   \n",
      "4  [sxtxstate, great, stuff, fri, sxsw, marissa, ...   \n",
      "\n",
      "                               pos_lemmatized_tokens  \n",
      "0  [wesley, g, iphone, hr, tweet, riseaustin, dea...  \n",
      "1  [jessedee, know, fludapp, awesome, ipad, iphon...  \n",
      "2         [swonderlin, wait, ipad, also, sale, sxsw]  \n",
      "3  [sxsw, hope, year, festival, crashy, year, iph...  \n",
      "4  [sxtxstate, great, stuff, fri, sxsw, marissa, ...  \n"
     ]
    }
   ],
   "source": [
    "#lemmatizing our corpus to see if the distribution changes\n",
    "lemmatizer = WordNetLemmatizer()\n",
    "\n",
    "# Apply POS tagging & lemmatization\n",
    "df['pos_lemmatized_tokens'] = df['clean_tokens'].apply(\n",
    "    lambda tokens: [lemmatizer.lemmatize(token, get_wordnet_pos(pos)) for token, pos in pos_tag(tokens)]\n",
    ")\n",
    "print(df[['clean_tokens', 'pos_lemmatized_tokens']].head())"
   ]
  },
  {
   "cell_type": "code",
   "execution_count": 156,
   "metadata": {},
   "outputs": [],
   "source": [
    "all_tokens = flatten_tokens(df, 'pos_lemmatized_tokens')\n",
    "freqdist = FreqDist(all_tokens)"
   ]
  },
  {
   "cell_type": "code",
   "execution_count": 157,
   "metadata": {
    "scrolled": false
   },
   "outputs": [
    {
     "name": "stdout",
     "output_type": "stream",
     "text": [
      "[('sxsw', 9623), ('mention', 7131), ('link', 4328), ('ipad', 2981), ('rt', 2966), ('google', 2646), ('apple', 2315), ('iphone', 1578), ('store', 1519), ('new', 1094), ('austin', 960), ('launch', 828), ('app', 820), ('get', 703), ('circle', 690), ('social', 649), ('popup', 630), ('android', 594), ('today', 579), ('open', 524)]\n"
     ]
    },
    {
     "data": {
      "image/png": "[encoded data removed]",
      "text/plain": [
       "<Figure size 432x288 with 1 Axes>"
      ]
     },
     "metadata": {
      "needs_background": "light"
     },
     "output_type": "display_data"
    }
   ],
   "source": [
    "# most common 20 words\n",
    "print(freqdist.most_common(20))\n",
    "# Plot the top 10 words\n",
    "freqdist.plot(10, title=\"Top 10 Most Frequent Words\")\n",
    "plt.show()"
   ]
  },
  {
   "cell_type": "code",
   "execution_count": 158,
   "metadata": {},
   "outputs": [],
   "source": [
    "#creating list of terms related to apple and google\n",
    "apple_keywords = {\"apple\", \"ipad\", \"iphone\", \"ios\", \"mac\", \"macbook\", \"safari\"}\n",
    "google_keywords = {\"google\", \"android\", \"pixel\", \"chrome\", \"chromebook\", \"gmail\", \"youtube\", \"search\"}"
   ]
  },
  {
   "cell_type": "code",
   "execution_count": 159,
   "metadata": {},
   "outputs": [
    {
     "name": "stdout",
     "output_type": "stream",
     "text": [
      "Apple     5499\n",
      "Google    2790\n",
      "Other      802\n",
      "Name: brand_category, dtype: int64\n"
     ]
    }
   ],
   "source": [
    "# Function to assign missing brand based on keywords\n",
    "def assign_brand(tokens, existing_brand):\n",
    "    if pd.notna(existing_brand):  # If already labeled, keep it\n",
    "        return existing_brand\n",
    "    tokens_set = set(tokens)  # Convert tokens list to a set for faster lookup\n",
    "    if tokens_set & apple_keywords:\n",
    "        return \"Apple\"\n",
    "    elif tokens_set & google_keywords:\n",
    "        return \"Google\"\n",
    "    else:\n",
    "        return \"Other\"  # Assign \"Other\" if no brand is detected\n",
    "\n",
    "# Apply the function to fill missing brand values\n",
    "df['brand_category'] = df.apply(lambda row: assign_brand(row['pos_lemmatized_tokens'], row['brand_category']), axis=1)\n",
    "\n",
    "# Check updated counts\n",
    "print(df['brand_category'].value_counts())"
   ]
  },
  {
   "cell_type": "code",
   "execution_count": 160,
   "metadata": {
    "scrolled": false
   },
   "outputs": [
    {
     "data": {
      "text/plain": [
       "Apple     5499\n",
       "Google    2790\n",
       "Other      802\n",
       "Name: brand_category, dtype: int64"
      ]
     },
     "execution_count": 160,
     "metadata": {},
     "output_type": "execute_result"
    }
   ],
   "source": [
    "#heavily scewed toward apple\n",
    "df['brand_category'].value_counts()"
   ]
  },
  {
   "cell_type": "code",
   "execution_count": 161,
   "metadata": {},
   "outputs": [
    {
     "data": {
      "text/plain": [
       "0"
      ]
     },
     "execution_count": 161,
     "metadata": {},
     "output_type": "execute_result"
    }
   ],
   "source": [
    "df['brand_category'].isna().sum()"
   ]
  },
  {
   "cell_type": "code",
   "execution_count": 162,
   "metadata": {},
   "outputs": [
    {
     "name": "stderr",
     "output_type": "stream",
     "text": [
      "[nltk_data] Downloading package vader_lexicon to\n",
      "[nltk_data]     C:\\Users\\jared\\AppData\\Roaming\\nltk_data...\n",
      "[nltk_data]   Package vader_lexicon is already up-to-date!\n"
     ]
    },
    {
     "data": {
      "text/plain": [
       "True"
      ]
     },
     "execution_count": 162,
     "metadata": {},
     "output_type": "execute_result"
    }
   ],
   "source": [
    "  >>> nltk.download('vader_lexicon')"
   ]
  },
  {
   "cell_type": "code",
   "execution_count": 163,
   "metadata": {},
   "outputs": [],
   "source": [
    "# Using a prebuilt sentiment analyzer called VADER cause star wars to fill in mislabeled values in our third column.\n",
    "sia  = SentimentIntensityAnalyzer()"
   ]
  },
  {
   "cell_type": "code",
   "execution_count": 164,
   "metadata": {},
   "outputs": [],
   "source": [
    "# Apply VADER sentiment classification to a new column\n",
    "df['vader_sentiment'] = df['tweet_text'].apply(lambda text: \n",
    "    \"Positive emotion\" if sia.polarity_scores(str(text))['compound'] > 0.05 \n",
    "    else \"Negative emotion\" if sia.polarity_scores(str(text))['compound'] < -0.05 \n",
    "    else \"Neutral emotion\"\n",
    ")"
   ]
  },
  {
   "cell_type": "code",
   "execution_count": 165,
   "metadata": {},
   "outputs": [
    {
     "name": "stdout",
     "output_type": "stream",
     "text": [
      "Positive emotion    3991\n",
      "Neutral emotion     3946\n",
      "Negative emotion    1154\n",
      "Name: vader_sentiment, dtype: int64\n"
     ]
    }
   ],
   "source": [
    "print(df['vader_sentiment'].value_counts())"
   ]
  },
  {
   "cell_type": "code",
   "execution_count": 166,
   "metadata": {
    "scrolled": true
   },
   "outputs": [
    {
     "data": {
      "text/html": [
       "<div>\n",
       "<style scoped>\n",
       "    .dataframe tbody tr th:only-of-type {\n",
       "        vertical-align: middle;\n",
       "    }\n",
       "\n",
       "    .dataframe tbody tr th {\n",
       "        vertical-align: top;\n",
       "    }\n",
       "\n",
       "    .dataframe thead th {\n",
       "        text-align: right;\n",
       "    }\n",
       "</style>\n",
       "<table border=\"1\" class=\"dataframe\">\n",
       "  <thead>\n",
       "    <tr style=\"text-align: right;\">\n",
       "      <th></th>\n",
       "      <th>tweet_text</th>\n",
       "      <th>emotion_in_tweet_is_directed_at</th>\n",
       "      <th>is_there_an_emotion_directed_at_a_brand_or_product</th>\n",
       "      <th>brand_category</th>\n",
       "      <th>brand_combined</th>\n",
       "      <th>tweet_tokens</th>\n",
       "      <th>filtered</th>\n",
       "      <th>filtered_tokens</th>\n",
       "      <th>clean_tokens</th>\n",
       "      <th>pos_lemmatized_tokens</th>\n",
       "      <th>vader_sentiment</th>\n",
       "    </tr>\n",
       "  </thead>\n",
       "  <tbody>\n",
       "    <tr>\n",
       "      <th>0</th>\n",
       "      <td>.@wesley83 I have a 3G iPhone. After 3 hrs twe...</td>\n",
       "      <td>iPhone</td>\n",
       "      <td>Negative emotion</td>\n",
       "      <td>Apple</td>\n",
       "      <td>Apple</td>\n",
       "      <td>[., @wesley83, I, have, a, 3G, iPhone, ., Afte...</td>\n",
       "      <td>[., @wesley83, i, have, a, 3g, iphone, ., afte...</td>\n",
       "      <td>[., @wesley83, 3g, iphone, ., 3, hrs, tweeting...</td>\n",
       "      <td>[wesley, g, iphone, hrs, tweeting, riseaustin,...</td>\n",
       "      <td>[wesley, g, iphone, hr, tweet, riseaustin, dea...</td>\n",
       "      <td>Negative emotion</td>\n",
       "    </tr>\n",
       "    <tr>\n",
       "      <th>1</th>\n",
       "      <td>@jessedee Know about @fludapp ? Awesome iPad/i...</td>\n",
       "      <td>iPad or iPhone App</td>\n",
       "      <td>Positive emotion</td>\n",
       "      <td>Apple</td>\n",
       "      <td>Apple</td>\n",
       "      <td>[@jessedee, Know, about, @fludapp, ?, Awesome,...</td>\n",
       "      <td>[@jessedee, know, about, @fludapp, ?, awesome,...</td>\n",
       "      <td>[@jessedee, know, @fludapp, ?, awesome, ipad, ...</td>\n",
       "      <td>[jessedee, know, fludapp, awesome, ipad, iphon...</td>\n",
       "      <td>[jessedee, know, fludapp, awesome, ipad, iphon...</td>\n",
       "      <td>Positive emotion</td>\n",
       "    </tr>\n",
       "    <tr>\n",
       "      <th>2</th>\n",
       "      <td>@swonderlin Can not wait for #iPad 2 also. The...</td>\n",
       "      <td>iPad</td>\n",
       "      <td>Positive emotion</td>\n",
       "      <td>Apple</td>\n",
       "      <td>Apple</td>\n",
       "      <td>[@swonderlin, Can, not, wait, for, #iPad, 2, a...</td>\n",
       "      <td>[@swonderlin, can, not, wait, for, #ipad, 2, a...</td>\n",
       "      <td>[@swonderlin, wait, #ipad, 2, also, ., sale, #...</td>\n",
       "      <td>[swonderlin, wait, ipad, also, sale, sxsw]</td>\n",
       "      <td>[swonderlin, wait, ipad, also, sale, sxsw]</td>\n",
       "      <td>Neutral emotion</td>\n",
       "    </tr>\n",
       "    <tr>\n",
       "      <th>3</th>\n",
       "      <td>@sxsw I hope this year's festival isn't as cra...</td>\n",
       "      <td>iPad or iPhone App</td>\n",
       "      <td>Negative emotion</td>\n",
       "      <td>Apple</td>\n",
       "      <td>Apple</td>\n",
       "      <td>[@sxsw, I, hope, this, year's, festival, isn't...</td>\n",
       "      <td>[@sxsw, i, hope, this, year's, festival, isn't...</td>\n",
       "      <td>[@sxsw, hope, year's, festival, crashy, year's...</td>\n",
       "      <td>[sxsw, hope, years, festival, crashy, years, i...</td>\n",
       "      <td>[sxsw, hope, year, festival, crashy, year, iph...</td>\n",
       "      <td>Positive emotion</td>\n",
       "    </tr>\n",
       "    <tr>\n",
       "      <th>4</th>\n",
       "      <td>@sxtxstate great stuff on Fri #SXSW: Marissa M...</td>\n",
       "      <td>Google</td>\n",
       "      <td>Positive emotion</td>\n",
       "      <td>Google</td>\n",
       "      <td>Google</td>\n",
       "      <td>[@sxtxstate, great, stuff, on, Fri, #SXSW, :, ...</td>\n",
       "      <td>[@sxtxstate, great, stuff, on, fri, #sxsw, :, ...</td>\n",
       "      <td>[@sxtxstate, great, stuff, fri, #sxsw, :, mari...</td>\n",
       "      <td>[sxtxstate, great, stuff, fri, sxsw, marissa, ...</td>\n",
       "      <td>[sxtxstate, great, stuff, fri, sxsw, marissa, ...</td>\n",
       "      <td>Positive emotion</td>\n",
       "    </tr>\n",
       "    <tr>\n",
       "      <th>...</th>\n",
       "      <td>...</td>\n",
       "      <td>...</td>\n",
       "      <td>...</td>\n",
       "      <td>...</td>\n",
       "      <td>...</td>\n",
       "      <td>...</td>\n",
       "      <td>...</td>\n",
       "      <td>...</td>\n",
       "      <td>...</td>\n",
       "      <td>...</td>\n",
       "      <td>...</td>\n",
       "    </tr>\n",
       "    <tr>\n",
       "      <th>9087</th>\n",
       "      <td>@mention Yup, but I don't have a third app yet...</td>\n",
       "      <td>NaN</td>\n",
       "      <td>No emotion toward brand or product</td>\n",
       "      <td>Google</td>\n",
       "      <td>NaN</td>\n",
       "      <td>[@mention, Yup, ,, but, I, don't, have, a, thi...</td>\n",
       "      <td>[@mention, yup, ,, but, i, don't, have, a, thi...</td>\n",
       "      <td>[@mention, yup, ,, third, app, yet, ., i'm, an...</td>\n",
       "      <td>[mention, yup, third, app, yet, im, android, s...</td>\n",
       "      <td>[mention, yup, third, app, yet, im, android, s...</td>\n",
       "      <td>Neutral emotion</td>\n",
       "    </tr>\n",
       "    <tr>\n",
       "      <th>9088</th>\n",
       "      <td>Ipad everywhere. #SXSW {link}</td>\n",
       "      <td>iPad</td>\n",
       "      <td>Positive emotion</td>\n",
       "      <td>Apple</td>\n",
       "      <td>Apple</td>\n",
       "      <td>[Ipad, everywhere, ., #SXSW, {, link, }]</td>\n",
       "      <td>[ipad, everywhere, ., #sxsw, {, link, }]</td>\n",
       "      <td>[ipad, everywhere, ., #sxsw, {, link, }]</td>\n",
       "      <td>[ipad, everywhere, sxsw, link]</td>\n",
       "      <td>[ipad, everywhere, sxsw, link]</td>\n",
       "      <td>Neutral emotion</td>\n",
       "    </tr>\n",
       "    <tr>\n",
       "      <th>9089</th>\n",
       "      <td>Wave, buzz... RT @mention We interrupt your re...</td>\n",
       "      <td>NaN</td>\n",
       "      <td>No emotion toward brand or product</td>\n",
       "      <td>Google</td>\n",
       "      <td>NaN</td>\n",
       "      <td>[Wave, ,, buzz, ..., RT, @mention, We, interru...</td>\n",
       "      <td>[wave, ,, buzz, ..., rt, @mention, we, interru...</td>\n",
       "      <td>[wave, ,, buzz, ..., rt, @mention, interrupt, ...</td>\n",
       "      <td>[wave, buzz, rt, mention, interrupt, regularly...</td>\n",
       "      <td>[wave, buzz, rt, mention, interrupt, regularly...</td>\n",
       "      <td>Negative emotion</td>\n",
       "    </tr>\n",
       "    <tr>\n",
       "      <th>9090</th>\n",
       "      <td>Google's Zeiger, a physician never reported po...</td>\n",
       "      <td>NaN</td>\n",
       "      <td>No emotion toward brand or product</td>\n",
       "      <td>Google</td>\n",
       "      <td>NaN</td>\n",
       "      <td>[Google's, Zeiger, ,, a, physician, never, rep...</td>\n",
       "      <td>[google's, zeiger, ,, a, physician, never, rep...</td>\n",
       "      <td>[google's, zeiger, ,, physician, never, report...</td>\n",
       "      <td>[googles, zeiger, physician, never, reported, ...</td>\n",
       "      <td>[google, zeiger, physician, never, report, pot...</td>\n",
       "      <td>Neutral emotion</td>\n",
       "    </tr>\n",
       "    <tr>\n",
       "      <th>9091</th>\n",
       "      <td>Some Verizon iPhone customers complained their...</td>\n",
       "      <td>NaN</td>\n",
       "      <td>No emotion toward brand or product</td>\n",
       "      <td>Apple</td>\n",
       "      <td>NaN</td>\n",
       "      <td>[Some, Verizon, iPhone, customers, complained,...</td>\n",
       "      <td>[some, verizon, iphone, customers, complained,...</td>\n",
       "      <td>[verizon, iphone, customers, complained, time,...</td>\n",
       "      <td>[verizon, iphone, customers, complained, time,...</td>\n",
       "      <td>[verizon, iphone, customer, complain, time, fe...</td>\n",
       "      <td>Negative emotion</td>\n",
       "    </tr>\n",
       "  </tbody>\n",
       "</table>\n",
       "<p>9091 rows × 11 columns</p>\n",
       "</div>"
      ],
      "text/plain": [
       "                                             tweet_text  \\\n",
       "0     .@wesley83 I have a 3G iPhone. After 3 hrs twe...   \n",
       "1     @jessedee Know about @fludapp ? Awesome iPad/i...   \n",
       "2     @swonderlin Can not wait for #iPad 2 also. The...   \n",
       "3     @sxsw I hope this year's festival isn't as cra...   \n",
       "4     @sxtxstate great stuff on Fri #SXSW: Marissa M...   \n",
       "...                                                 ...   \n",
       "9087  @mention Yup, but I don't have a third app yet...   \n",
       "9088                      Ipad everywhere. #SXSW {link}   \n",
       "9089  Wave, buzz... RT @mention We interrupt your re...   \n",
       "9090  Google's Zeiger, a physician never reported po...   \n",
       "9091  Some Verizon iPhone customers complained their...   \n",
       "\n",
       "     emotion_in_tweet_is_directed_at  \\\n",
       "0                             iPhone   \n",
       "1                 iPad or iPhone App   \n",
       "2                               iPad   \n",
       "3                 iPad or iPhone App   \n",
       "4                             Google   \n",
       "...                              ...   \n",
       "9087                             NaN   \n",
       "9088                            iPad   \n",
       "9089                             NaN   \n",
       "9090                             NaN   \n",
       "9091                             NaN   \n",
       "\n",
       "     is_there_an_emotion_directed_at_a_brand_or_product brand_category  \\\n",
       "0                                      Negative emotion          Apple   \n",
       "1                                      Positive emotion          Apple   \n",
       "2                                      Positive emotion          Apple   \n",
       "3                                      Negative emotion          Apple   \n",
       "4                                      Positive emotion         Google   \n",
       "...                                                 ...            ...   \n",
       "9087                 No emotion toward brand or product         Google   \n",
       "9088                                   Positive emotion          Apple   \n",
       "9089                 No emotion toward brand or product         Google   \n",
       "9090                 No emotion toward brand or product         Google   \n",
       "9091                 No emotion toward brand or product          Apple   \n",
       "\n",
       "     brand_combined                                       tweet_tokens  \\\n",
       "0             Apple  [., @wesley83, I, have, a, 3G, iPhone, ., Afte...   \n",
       "1             Apple  [@jessedee, Know, about, @fludapp, ?, Awesome,...   \n",
       "2             Apple  [@swonderlin, Can, not, wait, for, #iPad, 2, a...   \n",
       "3             Apple  [@sxsw, I, hope, this, year's, festival, isn't...   \n",
       "4            Google  [@sxtxstate, great, stuff, on, Fri, #SXSW, :, ...   \n",
       "...             ...                                                ...   \n",
       "9087            NaN  [@mention, Yup, ,, but, I, don't, have, a, thi...   \n",
       "9088          Apple           [Ipad, everywhere, ., #SXSW, {, link, }]   \n",
       "9089            NaN  [Wave, ,, buzz, ..., RT, @mention, We, interru...   \n",
       "9090            NaN  [Google's, Zeiger, ,, a, physician, never, rep...   \n",
       "9091            NaN  [Some, Verizon, iPhone, customers, complained,...   \n",
       "\n",
       "                                               filtered  \\\n",
       "0     [., @wesley83, i, have, a, 3g, iphone, ., afte...   \n",
       "1     [@jessedee, know, about, @fludapp, ?, awesome,...   \n",
       "2     [@swonderlin, can, not, wait, for, #ipad, 2, a...   \n",
       "3     [@sxsw, i, hope, this, year's, festival, isn't...   \n",
       "4     [@sxtxstate, great, stuff, on, fri, #sxsw, :, ...   \n",
       "...                                                 ...   \n",
       "9087  [@mention, yup, ,, but, i, don't, have, a, thi...   \n",
       "9088           [ipad, everywhere, ., #sxsw, {, link, }]   \n",
       "9089  [wave, ,, buzz, ..., rt, @mention, we, interru...   \n",
       "9090  [google's, zeiger, ,, a, physician, never, rep...   \n",
       "9091  [some, verizon, iphone, customers, complained,...   \n",
       "\n",
       "                                        filtered_tokens  \\\n",
       "0     [., @wesley83, 3g, iphone, ., 3, hrs, tweeting...   \n",
       "1     [@jessedee, know, @fludapp, ?, awesome, ipad, ...   \n",
       "2     [@swonderlin, wait, #ipad, 2, also, ., sale, #...   \n",
       "3     [@sxsw, hope, year's, festival, crashy, year's...   \n",
       "4     [@sxtxstate, great, stuff, fri, #sxsw, :, mari...   \n",
       "...                                                 ...   \n",
       "9087  [@mention, yup, ,, third, app, yet, ., i'm, an...   \n",
       "9088           [ipad, everywhere, ., #sxsw, {, link, }]   \n",
       "9089  [wave, ,, buzz, ..., rt, @mention, interrupt, ...   \n",
       "9090  [google's, zeiger, ,, physician, never, report...   \n",
       "9091  [verizon, iphone, customers, complained, time,...   \n",
       "\n",
       "                                           clean_tokens  \\\n",
       "0     [wesley, g, iphone, hrs, tweeting, riseaustin,...   \n",
       "1     [jessedee, know, fludapp, awesome, ipad, iphon...   \n",
       "2            [swonderlin, wait, ipad, also, sale, sxsw]   \n",
       "3     [sxsw, hope, years, festival, crashy, years, i...   \n",
       "4     [sxtxstate, great, stuff, fri, sxsw, marissa, ...   \n",
       "...                                                 ...   \n",
       "9087  [mention, yup, third, app, yet, im, android, s...   \n",
       "9088                     [ipad, everywhere, sxsw, link]   \n",
       "9089  [wave, buzz, rt, mention, interrupt, regularly...   \n",
       "9090  [googles, zeiger, physician, never, reported, ...   \n",
       "9091  [verizon, iphone, customers, complained, time,...   \n",
       "\n",
       "                                  pos_lemmatized_tokens   vader_sentiment  \n",
       "0     [wesley, g, iphone, hr, tweet, riseaustin, dea...  Negative emotion  \n",
       "1     [jessedee, know, fludapp, awesome, ipad, iphon...  Positive emotion  \n",
       "2            [swonderlin, wait, ipad, also, sale, sxsw]   Neutral emotion  \n",
       "3     [sxsw, hope, year, festival, crashy, year, iph...  Positive emotion  \n",
       "4     [sxtxstate, great, stuff, fri, sxsw, marissa, ...  Positive emotion  \n",
       "...                                                 ...               ...  \n",
       "9087  [mention, yup, third, app, yet, im, android, s...   Neutral emotion  \n",
       "9088                     [ipad, everywhere, sxsw, link]   Neutral emotion  \n",
       "9089  [wave, buzz, rt, mention, interrupt, regularly...  Negative emotion  \n",
       "9090  [google, zeiger, physician, never, report, pot...   Neutral emotion  \n",
       "9091  [verizon, iphone, customer, complain, time, fe...  Negative emotion  \n",
       "\n",
       "[9091 rows x 11 columns]"
      ]
     },
     "execution_count": 166,
     "metadata": {},
     "output_type": "execute_result"
    }
   ],
   "source": [
    "df"
   ]
  },
  {
   "cell_type": "code",
   "execution_count": 167,
   "metadata": {
    "scrolled": true
   },
   "outputs": [
    {
     "name": "stdout",
     "output_type": "stream",
     "text": [
      "No emotion toward brand or product    5387\n",
      "Positive emotion                      2978\n",
      "Negative emotion                       570\n",
      "I can't tell                           156\n",
      "Name: is_there_an_emotion_directed_at_a_brand_or_product, dtype: int64\n",
      "Positive emotion    3991\n",
      "Neutral emotion     3946\n",
      "Negative emotion    1154\n",
      "Name: vader_sentiment, dtype: int64\n"
     ]
    }
   ],
   "source": [
    "print(df['is_there_an_emotion_directed_at_a_brand_or_product'].value_counts())\n",
    "print(df['vader_sentiment'].value_counts())"
   ]
  },
  {
   "cell_type": "code",
   "execution_count": 168,
   "metadata": {
    "scrolled": true
   },
   "outputs": [
    {
     "name": "stdout",
     "output_type": "stream",
     "text": [
      "<class 'pandas.core.frame.DataFrame'>\n",
      "Int64Index: 9091 entries, 0 to 9091\n",
      "Data columns (total 11 columns):\n",
      " #   Column                                              Non-Null Count  Dtype \n",
      "---  ------                                              --------------  ----- \n",
      " 0   tweet_text                                          9091 non-null   object\n",
      " 1   emotion_in_tweet_is_directed_at                     3291 non-null   object\n",
      " 2   is_there_an_emotion_directed_at_a_brand_or_product  9091 non-null   object\n",
      " 3   brand_category                                      9091 non-null   object\n",
      " 4   brand_combined                                      3291 non-null   object\n",
      " 5   tweet_tokens                                        9091 non-null   object\n",
      " 6   filtered                                            9091 non-null   object\n",
      " 7   filtered_tokens                                     9091 non-null   object\n",
      " 8   clean_tokens                                        9091 non-null   object\n",
      " 9   pos_lemmatized_tokens                               9091 non-null   object\n",
      " 10  vader_sentiment                                     9091 non-null   object\n",
      "dtypes: object(11)\n",
      "memory usage: 852.3+ KB\n"
     ]
    }
   ],
   "source": [
    "df.info()"
   ]
  },
  {
   "cell_type": "markdown",
   "metadata": {},
   "source": [
    "While by no means perfect, this is much more balanced and representative of the overall dataset but we still have a class imbalance and a lot of neutral tweets. Our target is to see which brand has more positive emotions associated with it and it would be more costly to categorize a neutral emotion as a positive one rather than a negative. As such we will be combining negative and neutral emotions and assigning positive emotions to 1 as our target variable"
   ]
  },
  {
   "cell_type": "code",
   "execution_count": 169,
   "metadata": {},
   "outputs": [
    {
     "name": "stdout",
     "output_type": "stream",
     "text": [
      "0    5100\n",
      "1    3991\n",
      "Name: vader_target, dtype: int64\n"
     ]
    }
   ],
   "source": [
    "df['vader_target'] = df['vader_sentiment'].apply(lambda x: 1 if x == \"Positive emotion\" else 0)\n",
    "\n",
    "print(df['vader_target'].value_counts())"
   ]
  },
  {
   "cell_type": "code",
   "execution_count": 170,
   "metadata": {},
   "outputs": [
    {
     "data": {
      "text/plain": [
       "0       wesley g iphone hr tweet riseaustin dead need ...\n",
       "1       jessedee know fludapp awesome ipad iphone app ...\n",
       "2                     swonderlin wait ipad also sale sxsw\n",
       "3       sxsw hope year festival crashy year iphone app...\n",
       "4       sxtxstate great stuff fri sxsw marissa mayer g...\n",
       "                              ...                        \n",
       "9087    mention yup third app yet im android suggestio...\n",
       "9088                            ipad everywhere sxsw link\n",
       "9089    wave buzz rt mention interrupt regularly sched...\n",
       "9090    google zeiger physician never report potential...\n",
       "9091    verizon iphone customer complain time fell bac...\n",
       "Name: clean_text, Length: 9091, dtype: object"
      ]
     },
     "execution_count": 170,
     "metadata": {},
     "output_type": "execute_result"
    }
   ],
   "source": [
    "#Converting cleaned pos_lemmatized_tokens into text to vectorize\n",
    "df['clean_text'] = df['pos_lemmatized_tokens'].apply(lambda tokens: \" \".join(tokens))\n",
    "df['clean_text']"
   ]
  },
  {
   "cell_type": "code",
   "execution_count": 171,
   "metadata": {},
   "outputs": [],
   "source": [
    "# Initialize the TF-IDF Vectorizer\n",
    "tfidf = TfidfVectorizer(max_features=5000)\n",
    "\n",
    "# Fit & transform the text\n",
    "X_tfidf = tfidf.fit_transform(df['clean_text'])\n",
    "\n",
    "# Convert to DataFrame for better readability\n",
    "tfidf_df = pd.DataFrame(X_tfidf.toarray(), columns=tfidf.get_feature_names_out())\n"
   ]
  },
  {
   "cell_type": "code",
   "execution_count": 172,
   "metadata": {
    "scrolled": false
   },
   "outputs": [
    {
     "data": {
      "text/html": [
       "<div>\n",
       "<style scoped>\n",
       "    .dataframe tbody tr th:only-of-type {\n",
       "        vertical-align: middle;\n",
       "    }\n",
       "\n",
       "    .dataframe tbody tr th {\n",
       "        vertical-align: top;\n",
       "    }\n",
       "\n",
       "    .dataframe thead th {\n",
       "        text-align: right;\n",
       "    }\n",
       "</style>\n",
       "<table border=\"1\" class=\"dataframe\">\n",
       "  <thead>\n",
       "    <tr style=\"text-align: right;\">\n",
       "      <th></th>\n",
       "      <th>aapl</th>\n",
       "      <th>aaron</th>\n",
       "      <th>aarpbulletin</th>\n",
       "      <th>ab</th>\n",
       "      <th>abacus</th>\n",
       "      <th>abandon</th>\n",
       "      <th>abba</th>\n",
       "      <th>abc</th>\n",
       "      <th>aber</th>\n",
       "      <th>ability</th>\n",
       "      <th>...</th>\n",
       "      <th>ûïview</th>\n",
       "      <th>ûïwin</th>\n",
       "      <th>ûò</th>\n",
       "      <th>ûòand</th>\n",
       "      <th>ûó</th>\n",
       "      <th>ûócan</th>\n",
       "      <th>ûójust</th>\n",
       "      <th>ûólewis</th>\n",
       "      <th>ûólots</th>\n",
       "      <th>ûóthe</th>\n",
       "    </tr>\n",
       "  </thead>\n",
       "  <tbody>\n",
       "    <tr>\n",
       "      <th>0</th>\n",
       "      <td>0.0</td>\n",
       "      <td>0.0</td>\n",
       "      <td>0.0</td>\n",
       "      <td>0.0</td>\n",
       "      <td>0.0</td>\n",
       "      <td>0.0</td>\n",
       "      <td>0.0</td>\n",
       "      <td>0.0</td>\n",
       "      <td>0.0</td>\n",
       "      <td>0.0</td>\n",
       "      <td>...</td>\n",
       "      <td>0.0</td>\n",
       "      <td>0.0</td>\n",
       "      <td>0.0</td>\n",
       "      <td>0.0</td>\n",
       "      <td>0.0</td>\n",
       "      <td>0.0</td>\n",
       "      <td>0.0</td>\n",
       "      <td>0.0</td>\n",
       "      <td>0.0</td>\n",
       "      <td>0.0</td>\n",
       "    </tr>\n",
       "    <tr>\n",
       "      <th>1</th>\n",
       "      <td>0.0</td>\n",
       "      <td>0.0</td>\n",
       "      <td>0.0</td>\n",
       "      <td>0.0</td>\n",
       "      <td>0.0</td>\n",
       "      <td>0.0</td>\n",
       "      <td>0.0</td>\n",
       "      <td>0.0</td>\n",
       "      <td>0.0</td>\n",
       "      <td>0.0</td>\n",
       "      <td>...</td>\n",
       "      <td>0.0</td>\n",
       "      <td>0.0</td>\n",
       "      <td>0.0</td>\n",
       "      <td>0.0</td>\n",
       "      <td>0.0</td>\n",
       "      <td>0.0</td>\n",
       "      <td>0.0</td>\n",
       "      <td>0.0</td>\n",
       "      <td>0.0</td>\n",
       "      <td>0.0</td>\n",
       "    </tr>\n",
       "    <tr>\n",
       "      <th>2</th>\n",
       "      <td>0.0</td>\n",
       "      <td>0.0</td>\n",
       "      <td>0.0</td>\n",
       "      <td>0.0</td>\n",
       "      <td>0.0</td>\n",
       "      <td>0.0</td>\n",
       "      <td>0.0</td>\n",
       "      <td>0.0</td>\n",
       "      <td>0.0</td>\n",
       "      <td>0.0</td>\n",
       "      <td>...</td>\n",
       "      <td>0.0</td>\n",
       "      <td>0.0</td>\n",
       "      <td>0.0</td>\n",
       "      <td>0.0</td>\n",
       "      <td>0.0</td>\n",
       "      <td>0.0</td>\n",
       "      <td>0.0</td>\n",
       "      <td>0.0</td>\n",
       "      <td>0.0</td>\n",
       "      <td>0.0</td>\n",
       "    </tr>\n",
       "    <tr>\n",
       "      <th>3</th>\n",
       "      <td>0.0</td>\n",
       "      <td>0.0</td>\n",
       "      <td>0.0</td>\n",
       "      <td>0.0</td>\n",
       "      <td>0.0</td>\n",
       "      <td>0.0</td>\n",
       "      <td>0.0</td>\n",
       "      <td>0.0</td>\n",
       "      <td>0.0</td>\n",
       "      <td>0.0</td>\n",
       "      <td>...</td>\n",
       "      <td>0.0</td>\n",
       "      <td>0.0</td>\n",
       "      <td>0.0</td>\n",
       "      <td>0.0</td>\n",
       "      <td>0.0</td>\n",
       "      <td>0.0</td>\n",
       "      <td>0.0</td>\n",
       "      <td>0.0</td>\n",
       "      <td>0.0</td>\n",
       "      <td>0.0</td>\n",
       "    </tr>\n",
       "    <tr>\n",
       "      <th>4</th>\n",
       "      <td>0.0</td>\n",
       "      <td>0.0</td>\n",
       "      <td>0.0</td>\n",
       "      <td>0.0</td>\n",
       "      <td>0.0</td>\n",
       "      <td>0.0</td>\n",
       "      <td>0.0</td>\n",
       "      <td>0.0</td>\n",
       "      <td>0.0</td>\n",
       "      <td>0.0</td>\n",
       "      <td>...</td>\n",
       "      <td>0.0</td>\n",
       "      <td>0.0</td>\n",
       "      <td>0.0</td>\n",
       "      <td>0.0</td>\n",
       "      <td>0.0</td>\n",
       "      <td>0.0</td>\n",
       "      <td>0.0</td>\n",
       "      <td>0.0</td>\n",
       "      <td>0.0</td>\n",
       "      <td>0.0</td>\n",
       "    </tr>\n",
       "    <tr>\n",
       "      <th>5</th>\n",
       "      <td>0.0</td>\n",
       "      <td>0.0</td>\n",
       "      <td>0.0</td>\n",
       "      <td>0.0</td>\n",
       "      <td>0.0</td>\n",
       "      <td>0.0</td>\n",
       "      <td>0.0</td>\n",
       "      <td>0.0</td>\n",
       "      <td>0.0</td>\n",
       "      <td>0.0</td>\n",
       "      <td>...</td>\n",
       "      <td>0.0</td>\n",
       "      <td>0.0</td>\n",
       "      <td>0.0</td>\n",
       "      <td>0.0</td>\n",
       "      <td>0.0</td>\n",
       "      <td>0.0</td>\n",
       "      <td>0.0</td>\n",
       "      <td>0.0</td>\n",
       "      <td>0.0</td>\n",
       "      <td>0.0</td>\n",
       "    </tr>\n",
       "    <tr>\n",
       "      <th>6</th>\n",
       "      <td>0.0</td>\n",
       "      <td>0.0</td>\n",
       "      <td>0.0</td>\n",
       "      <td>0.0</td>\n",
       "      <td>0.0</td>\n",
       "      <td>0.0</td>\n",
       "      <td>0.0</td>\n",
       "      <td>0.0</td>\n",
       "      <td>0.0</td>\n",
       "      <td>0.0</td>\n",
       "      <td>...</td>\n",
       "      <td>0.0</td>\n",
       "      <td>0.0</td>\n",
       "      <td>0.0</td>\n",
       "      <td>0.0</td>\n",
       "      <td>0.0</td>\n",
       "      <td>0.0</td>\n",
       "      <td>0.0</td>\n",
       "      <td>0.0</td>\n",
       "      <td>0.0</td>\n",
       "      <td>0.0</td>\n",
       "    </tr>\n",
       "    <tr>\n",
       "      <th>7</th>\n",
       "      <td>0.0</td>\n",
       "      <td>0.0</td>\n",
       "      <td>0.0</td>\n",
       "      <td>0.0</td>\n",
       "      <td>0.0</td>\n",
       "      <td>0.0</td>\n",
       "      <td>0.0</td>\n",
       "      <td>0.0</td>\n",
       "      <td>0.0</td>\n",
       "      <td>0.0</td>\n",
       "      <td>...</td>\n",
       "      <td>0.0</td>\n",
       "      <td>0.0</td>\n",
       "      <td>0.0</td>\n",
       "      <td>0.0</td>\n",
       "      <td>0.0</td>\n",
       "      <td>0.0</td>\n",
       "      <td>0.0</td>\n",
       "      <td>0.0</td>\n",
       "      <td>0.0</td>\n",
       "      <td>0.0</td>\n",
       "    </tr>\n",
       "    <tr>\n",
       "      <th>8</th>\n",
       "      <td>0.0</td>\n",
       "      <td>0.0</td>\n",
       "      <td>0.0</td>\n",
       "      <td>0.0</td>\n",
       "      <td>0.0</td>\n",
       "      <td>0.0</td>\n",
       "      <td>0.0</td>\n",
       "      <td>0.0</td>\n",
       "      <td>0.0</td>\n",
       "      <td>0.0</td>\n",
       "      <td>...</td>\n",
       "      <td>0.0</td>\n",
       "      <td>0.0</td>\n",
       "      <td>0.0</td>\n",
       "      <td>0.0</td>\n",
       "      <td>0.0</td>\n",
       "      <td>0.0</td>\n",
       "      <td>0.0</td>\n",
       "      <td>0.0</td>\n",
       "      <td>0.0</td>\n",
       "      <td>0.0</td>\n",
       "    </tr>\n",
       "    <tr>\n",
       "      <th>9</th>\n",
       "      <td>0.0</td>\n",
       "      <td>0.0</td>\n",
       "      <td>0.0</td>\n",
       "      <td>0.0</td>\n",
       "      <td>0.0</td>\n",
       "      <td>0.0</td>\n",
       "      <td>0.0</td>\n",
       "      <td>0.0</td>\n",
       "      <td>0.0</td>\n",
       "      <td>0.0</td>\n",
       "      <td>...</td>\n",
       "      <td>0.0</td>\n",
       "      <td>0.0</td>\n",
       "      <td>0.0</td>\n",
       "      <td>0.0</td>\n",
       "      <td>0.0</td>\n",
       "      <td>0.0</td>\n",
       "      <td>0.0</td>\n",
       "      <td>0.0</td>\n",
       "      <td>0.0</td>\n",
       "      <td>0.0</td>\n",
       "    </tr>\n",
       "  </tbody>\n",
       "</table>\n",
       "<p>10 rows × 5000 columns</p>\n",
       "</div>"
      ],
      "text/plain": [
       "   aapl  aaron  aarpbulletin   ab  abacus  abandon  abba  abc  aber  ability  \\\n",
       "0   0.0    0.0           0.0  0.0     0.0      0.0   0.0  0.0   0.0      0.0   \n",
       "1   0.0    0.0           0.0  0.0     0.0      0.0   0.0  0.0   0.0      0.0   \n",
       "2   0.0    0.0           0.0  0.0     0.0      0.0   0.0  0.0   0.0      0.0   \n",
       "3   0.0    0.0           0.0  0.0     0.0      0.0   0.0  0.0   0.0      0.0   \n",
       "4   0.0    0.0           0.0  0.0     0.0      0.0   0.0  0.0   0.0      0.0   \n",
       "5   0.0    0.0           0.0  0.0     0.0      0.0   0.0  0.0   0.0      0.0   \n",
       "6   0.0    0.0           0.0  0.0     0.0      0.0   0.0  0.0   0.0      0.0   \n",
       "7   0.0    0.0           0.0  0.0     0.0      0.0   0.0  0.0   0.0      0.0   \n",
       "8   0.0    0.0           0.0  0.0     0.0      0.0   0.0  0.0   0.0      0.0   \n",
       "9   0.0    0.0           0.0  0.0     0.0      0.0   0.0  0.0   0.0      0.0   \n",
       "\n",
       "   ...  ûïview  ûïwin   ûò  ûòand   ûó  ûócan  ûójust  ûólewis  ûólots  ûóthe  \n",
       "0  ...     0.0    0.0  0.0    0.0  0.0    0.0     0.0      0.0     0.0    0.0  \n",
       "1  ...     0.0    0.0  0.0    0.0  0.0    0.0     0.0      0.0     0.0    0.0  \n",
       "2  ...     0.0    0.0  0.0    0.0  0.0    0.0     0.0      0.0     0.0    0.0  \n",
       "3  ...     0.0    0.0  0.0    0.0  0.0    0.0     0.0      0.0     0.0    0.0  \n",
       "4  ...     0.0    0.0  0.0    0.0  0.0    0.0     0.0      0.0     0.0    0.0  \n",
       "5  ...     0.0    0.0  0.0    0.0  0.0    0.0     0.0      0.0     0.0    0.0  \n",
       "6  ...     0.0    0.0  0.0    0.0  0.0    0.0     0.0      0.0     0.0    0.0  \n",
       "7  ...     0.0    0.0  0.0    0.0  0.0    0.0     0.0      0.0     0.0    0.0  \n",
       "8  ...     0.0    0.0  0.0    0.0  0.0    0.0     0.0      0.0     0.0    0.0  \n",
       "9  ...     0.0    0.0  0.0    0.0  0.0    0.0     0.0      0.0     0.0    0.0  \n",
       "\n",
       "[10 rows x 5000 columns]"
      ]
     },
     "execution_count": 172,
     "metadata": {},
     "output_type": "execute_result"
    }
   ],
   "source": [
    "tfidf_df.head(10)"
   ]
  },
  {
   "cell_type": "code",
   "execution_count": 173,
   "metadata": {},
   "outputs": [
    {
     "name": "stdout",
     "output_type": "stream",
     "text": [
      "['aapl' 'aaron' 'aarpbulletin' 'ab' 'abacus' 'abandon' 'abba' 'abc' 'aber'\n",
      " 'ability' 'able' 'abnormal' 'abound' 'abroad' 'absolute' 'absolutely'\n",
      " 'absolutley' 'abt' 'abuzz' 'academy']\n"
     ]
    }
   ],
   "source": [
    "print(tfidf.get_feature_names_out()[:20])  # Check first 20 features\n"
   ]
  },
  {
   "cell_type": "code",
   "execution_count": 174,
   "metadata": {
    "scrolled": true
   },
   "outputs": [
    {
     "name": "stdout",
     "output_type": "stream",
     "text": [
      "99061\n"
     ]
    }
   ],
   "source": [
    "print((tfidf_df != 0).sum().sum())  # Total nonzero values"
   ]
  },
  {
   "cell_type": "code",
   "execution_count": 175,
   "metadata": {},
   "outputs": [
    {
     "name": "stdout",
     "output_type": "stream",
     "text": [
      "3.532131    21\n",
      "3.304019    16\n",
      "3.133270    12\n",
      "3.336704    10\n",
      "2.103481     8\n",
      "            ..\n",
      "2.753584     1\n",
      "3.287456     1\n",
      "2.389312     1\n",
      "2.868765     1\n",
      "3.111957     1\n",
      "Length: 8761, dtype: int64\n"
     ]
    }
   ],
   "source": [
    "print(tfidf_df.sum(axis=1).value_counts())  # Distribution of nonzero rows"
   ]
  },
  {
   "cell_type": "markdown",
   "metadata": {},
   "source": [
    "Our values should be ready for analysis, some things to keep in mind are if I want to remove numbers, and @mention values"
   ]
  },
  {
   "cell_type": "code",
   "execution_count": 176,
   "metadata": {
    "scrolled": true
   },
   "outputs": [
    {
     "name": "stdout",
     "output_type": "stream",
     "text": [
      "Training Set: (7272, 5000), Test Set: (1819, 5000)\n",
      "Training Set: (7272, 5000), Test Set: (1819, 5000)\n"
     ]
    }
   ],
   "source": [
    "# Define target variable (convert categorical labels to numerical)\n",
    "y = df['vader_target']\n",
    "\n",
    "# Split into training and test sets\n",
    "X_train, X_test, y_train, y_test = train_test_split(X_tfidf, y, test_size=0.2, random_state=42)\n",
    "\n",
    "print(f\"Training Set: {X_train.shape}, Test Set: {X_test.shape}\")\n",
    "X_train, X_test, y_train, y_test = train_test_split(X_tfidf, y, test_size=0.2, random_state=42)\n",
    "\n",
    "print(f\"Training Set: {X_train.shape}, Test Set: {X_test.shape}\")"
   ]
  },
  {
   "cell_type": "code",
   "execution_count": 177,
   "metadata": {},
   "outputs": [
    {
     "data": {
      "text/plain": [
       "0       0\n",
       "1       1\n",
       "2       0\n",
       "3       1\n",
       "4       1\n",
       "       ..\n",
       "9087    0\n",
       "9088    0\n",
       "9089    0\n",
       "9090    0\n",
       "9091    0\n",
       "Name: vader_target, Length: 9091, dtype: int64"
      ]
     },
     "execution_count": 177,
     "metadata": {},
     "output_type": "execute_result"
    }
   ],
   "source": [
    "y"
   ]
  },
  {
   "cell_type": "markdown",
   "metadata": {},
   "source": [
    "## Modeling\n",
    "starting with building a basic logistic regression for comparision sake"
   ]
  },
  {
   "cell_type": "code",
   "execution_count": 178,
   "metadata": {},
   "outputs": [],
   "source": [
    "# Initialize the model\n",
    "model = LogisticRegression(max_iter=1000, random_state=42)\n",
    "\n",
    "# Train the model\n",
    "model.fit(X_train, y_train)\n",
    "\n",
    "# Make predictions\n",
    "y_pred = model.predict(X_test)"
   ]
  },
  {
   "cell_type": "code",
   "execution_count": 179,
   "metadata": {},
   "outputs": [
    {
     "name": "stdout",
     "output_type": "stream",
     "text": [
      "Model Accuracy: 0.8499175371083013\n",
      "\n",
      "Classification Report:\n",
      "               precision    recall  f1-score   support\n",
      "\n",
      "           0       0.82      0.92      0.87       997\n",
      "           1       0.89      0.76      0.82       822\n",
      "\n",
      "    accuracy                           0.85      1819\n",
      "   macro avg       0.86      0.84      0.85      1819\n",
      "weighted avg       0.85      0.85      0.85      1819\n",
      "\n"
     ]
    },
    {
     "data": {
      "image/png": "[encoded data removed]",
      "text/plain": [
       "<Figure size 432x288 with 2 Axes>"
      ]
     },
     "metadata": {
      "needs_background": "light"
     },
     "output_type": "display_data"
    }
   ],
   "source": [
    "# Print accuracy score\n",
    "print(\"Model Accuracy:\", accuracy_score(y_test, y_pred))\n",
    "\n",
    "# Print classification report\n",
    "print(\"\\nClassification Report:\\n\", classification_report(y_test, y_pred))\n",
    "\n",
    "# Confusion Matrix\n",
    "cm = confusion_matrix(y_test, y_pred)\n",
    "disp = ConfusionMatrixDisplay(confusion_matrix=cm, display_labels=model.classes_)\n",
    "disp.plot(cmap='Blues')\n",
    "plt.title(\"Confusion Matrix\")\n",
    "plt.show()"
   ]
  },
  {
   "cell_type": "code",
   "execution_count": 180,
   "metadata": {
    "scrolled": false
   },
   "outputs": [
    {
     "name": "stdout",
     "output_type": "stream",
     "text": [
      "Top 10 Most Important Words for Classification:\n",
      "free: 6.3753\n",
      "great: 6.0168\n",
      "like: 5.9917\n",
      "party: 5.6786\n",
      "love: 5.6401\n",
      "good: 5.3781\n",
      "win: 4.6538\n",
      "cool: 4.3911\n",
      "best: 4.3488\n",
      "thanks: 4.3345\n"
     ]
    }
   ],
   "source": [
    "feature_names = tfidf.get_feature_names_out()\n",
    "coefficients = model.coef_[0]\n",
    "\n",
    "# Sort top features by importance\n",
    "top_features = sorted(zip(coefficients, feature_names), reverse=True, key=lambda x: abs(x[0]))\n",
    "\n",
    "print(\"Top 10 Most Important Words for Classification:\")\n",
    "for coef, word in top_features[:10]:\n",
    "    print(f\"{word}: {coef:.4f}\")"
   ]
  },
  {
   "cell_type": "markdown",
   "metadata": {},
   "source": [
    "This is a good start for a baseline log model that predicts whether a tweet is positive or negative. We will continue to iterate through this process if we can do better. It is worth noting that our model has a higher precision than recall score, which with data imbalance is preferred but we'll try to improve both as well as our classification. Since our data is already cleaned this shouldn't be too difficult. "
   ]
  },
  {
   "cell_type": "code",
   "execution_count": 181,
   "metadata": {
    "scrolled": true
   },
   "outputs": [
    {
     "data": {
      "text/html": [
       "<div>\n",
       "<style scoped>\n",
       "    .dataframe tbody tr th:only-of-type {\n",
       "        vertical-align: middle;\n",
       "    }\n",
       "\n",
       "    .dataframe tbody tr th {\n",
       "        vertical-align: top;\n",
       "    }\n",
       "\n",
       "    .dataframe thead th {\n",
       "        text-align: right;\n",
       "    }\n",
       "</style>\n",
       "<table border=\"1\" class=\"dataframe\">\n",
       "  <thead>\n",
       "    <tr style=\"text-align: right;\">\n",
       "      <th>vader_sentiment</th>\n",
       "      <th>Negative emotion</th>\n",
       "      <th>Neutral emotion</th>\n",
       "      <th>Positive emotion</th>\n",
       "    </tr>\n",
       "    <tr>\n",
       "      <th>brand_category</th>\n",
       "      <th></th>\n",
       "      <th></th>\n",
       "      <th></th>\n",
       "    </tr>\n",
       "  </thead>\n",
       "  <tbody>\n",
       "    <tr>\n",
       "      <th>Apple</th>\n",
       "      <td>13.747954</td>\n",
       "      <td>42.625932</td>\n",
       "      <td>43.626114</td>\n",
       "    </tr>\n",
       "    <tr>\n",
       "      <th>Google</th>\n",
       "      <td>11.684588</td>\n",
       "      <td>47.777778</td>\n",
       "      <td>40.537634</td>\n",
       "    </tr>\n",
       "    <tr>\n",
       "      <th>Other</th>\n",
       "      <td>8.977556</td>\n",
       "      <td>33.541147</td>\n",
       "      <td>57.481297</td>\n",
       "    </tr>\n",
       "  </tbody>\n",
       "</table>\n",
       "</div>"
      ],
      "text/plain": [
       "vader_sentiment  Negative emotion  Neutral emotion  Positive emotion\n",
       "brand_category                                                      \n",
       "Apple                   13.747954        42.625932         43.626114\n",
       "Google                  11.684588        47.777778         40.537634\n",
       "Other                    8.977556        33.541147         57.481297"
      ]
     },
     "execution_count": 181,
     "metadata": {},
     "output_type": "execute_result"
    }
   ],
   "source": [
    "# Group by brand and sentiment\n",
    "brand_sentiment_counts = df.groupby(['brand_category', 'vader_sentiment']).size().unstack()\n",
    "\n",
    "# Normalize counts to get percentages\n",
    "brand_sentiment_percent = brand_sentiment_counts.div(brand_sentiment_counts.sum(axis=1), axis=0) * 100\n",
    "brand_sentiment_percent"
   ]
  },
  {
   "cell_type": "code",
   "execution_count": 182,
   "metadata": {},
   "outputs": [
    {
     "data": {
      "text/plain": [
       "0        Apple\n",
       "1        Apple\n",
       "2        Apple\n",
       "3        Apple\n",
       "4       Google\n",
       "         ...  \n",
       "9087       NaN\n",
       "9088     Apple\n",
       "9089       NaN\n",
       "9090       NaN\n",
       "9091       NaN\n",
       "Name: brand_combined, Length: 9091, dtype: object"
      ]
     },
     "execution_count": 182,
     "metadata": {},
     "output_type": "execute_result"
    }
   ],
   "source": [
    "df['brand_combined']"
   ]
  },
  {
   "cell_type": "code",
   "execution_count": 183,
   "metadata": {},
   "outputs": [
    {
     "name": "stdout",
     "output_type": "stream",
     "text": [
      "Brand Classification Accuracy: 0.9802731411229135\n",
      "\n",
      "Classification Report:\n",
      "               precision    recall  f1-score   support\n",
      "\n",
      "           0       0.99      0.93      0.96       164\n",
      "           1       0.98      1.00      0.99       495\n",
      "\n",
      "    accuracy                           0.98       659\n",
      "   macro avg       0.98      0.96      0.97       659\n",
      "weighted avg       0.98      0.98      0.98       659\n",
      "\n"
     ]
    }
   ],
   "source": [
    "df_brand = df[df['brand_combined'].isin(['Apple', 'Google'])].copy()\n",
    "\n",
    "# Define target labels (1 for Apple, 0 for Google)\n",
    "y_brand = df_brand['brand_combined'].map({'Apple': 1, 'Google': 0})\n",
    "\n",
    "# Split data into training and test sets\n",
    "X_train_brand, X_test_brand, y_train_brand, y_test_brand = train_test_split(\n",
    "    df_brand['clean_text'], y_brand, test_size=0.2, random_state=42\n",
    ")\n",
    "\n",
    "# Create pipeline with CountVectorizer and MultinomialNB\n",
    "brand_pipeline = Pipeline([\n",
    "    ('vectorizer', CountVectorizer(max_features=5000)),  \n",
    "    ('classifier', MultinomialNB())  \n",
    "])\n",
    "\n",
    "# Train the model\n",
    "brand_pipeline.fit(X_train_brand, y_train_brand)\n",
    "\n",
    "# Evaluate the classifier\n",
    "y_pred_brand = brand_pipeline.predict(X_test_brand)\n",
    "\n",
    "print(\"Brand Classification Accuracy:\", accuracy_score(y_test_brand, y_pred_brand))\n",
    "print(\"\\nClassification Report:\\n\", classification_report(y_test_brand, y_pred_brand))\n",
    "\n",
    "# Predict the brand for all tweets\n",
    "df['predicted_brand'] = brand_pipeline.predict(df['clean_text'])\n",
    "df['predicted_brand'] = df['predicted_brand'].map({1: 'Apple', 0: 'Google'})"
   ]
  },
  {
   "cell_type": "markdown",
   "metadata": {},
   "source": [
    "This allows us to now run our pipeline over the entire dataset in order to determine if a tweet is either Apple or Google rather than using "
   ]
  },
  {
   "cell_type": "code",
   "execution_count": 184,
   "metadata": {
    "scrolled": true
   },
   "outputs": [
    {
     "data": {
      "text/plain": [
       "Apple     6243\n",
       "Google    2848\n",
       "Name: predicted_brand, dtype: int64"
      ]
     },
     "execution_count": 184,
     "metadata": {},
     "output_type": "execute_result"
    }
   ],
   "source": [
    "#Updated brands, heavily scewed toward Apple\n",
    "df['predicted_brand'].value_counts()"
   ]
  },
  {
   "cell_type": "code",
   "execution_count": 185,
   "metadata": {},
   "outputs": [
    {
     "name": "stdout",
     "output_type": "stream",
     "text": [
      "Sentiment Classification Accuracy: 0.8688046647230321\n",
      "\n",
      "Classification Report:\n",
      "               precision    recall  f1-score   support\n",
      "\n",
      "           0       0.86      0.50      0.63       231\n",
      "           1       0.87      0.98      0.92       798\n",
      "\n",
      "    accuracy                           0.87      1029\n",
      "   macro avg       0.86      0.74      0.78      1029\n",
      "weighted avg       0.87      0.87      0.86      1029\n",
      "\n"
     ]
    }
   ],
   "source": [
    "# Filter dataset to only include positive and negative sentiment\n",
    "df_sentiment = df[df['vader_sentiment'] != 'Neutral emotion'].copy()\n",
    "\n",
    "# Define target labels (1 for Positive, 0 for Negative)\n",
    "y_sentiment = df_sentiment['vader_sentiment'].map({'Positive emotion': 1, 'Negative emotion': 0})\n",
    "\n",
    "# Split data into training and test sets\n",
    "X_train_sent, X_test_sent, y_train_sent, y_test_sent = train_test_split(\n",
    "    df_sentiment['clean_text'], y_sentiment, test_size=0.2, random_state=42\n",
    ")\n",
    "\n",
    "# Create pipeline with TF-IDF and RandomForestClassifier\n",
    "sentiment_pipeline = Pipeline([\n",
    "    ('vectorizer', CountVectorizer(max_features=5000)),  \n",
    "    ('classifier', RandomForestClassifier(n_estimators=200,  class_weight='balanced', random_state=42))  \n",
    "])\n",
    "\n",
    "# Train the model\n",
    "sentiment_pipeline.fit(X_train_sent, y_train_sent)\n",
    "\n",
    "# Evaluate the classifier\n",
    "y_pred_sent = sentiment_pipeline.predict(X_test_sent)\n",
    "\n",
    "print(\"Sentiment Classification Accuracy:\", accuracy_score(y_test_sent, y_pred_sent))\n",
    "print(\"\\nClassification Report:\\n\", classification_report(y_test_sent, y_pred_sent))\n",
    "\n",
    "# Predict sentiment for all tweets\n",
    "df['predicted_sentiment'] = sentiment_pipeline.predict(df['clean_text'])\n",
    "df['predicted_sentiment'] = df['predicted_sentiment'].map({1: 'Positive emotion', 0: 'Negative emotion'})\n"
   ]
  },
  {
   "cell_type": "code",
   "execution_count": 186,
   "metadata": {
    "scrolled": true
   },
   "outputs": [
    {
     "data": {
      "image/png": "[encoded data removed]",
      "text/plain": [
       "<Figure size 432x288 with 2 Axes>"
      ]
     },
     "metadata": {
      "needs_background": "light"
     },
     "output_type": "display_data"
    }
   ],
   "source": [
    "# Confusion Matrix\n",
    "cm = confusion_matrix(y_test_sent, y_pred_sent)\n",
    "disp = ConfusionMatrixDisplay(confusion_matrix=cm, display_labels=model.classes_)\n",
    "disp.plot(cmap='Blues')\n",
    "plt.title(\"Confusion Matrix\")\n",
    "plt.show()"
   ]
  },
  {
   "cell_type": "markdown",
   "metadata": {},
   "source": [
    "We have 98% recall for positive predicted labels but only a 50% for recall which is because there are many more positive labels compared to negative. This means our model is over predicting most of our tweets as positive as it's more likely to be correct due to a the imbalance of negative to positive tweets. We will want to artificially balance our tweets so there are more negative tweets for it to train off of"
   ]
  },
  {
   "cell_type": "code",
   "execution_count": 187,
   "metadata": {
    "scrolled": false
   },
   "outputs": [
    {
     "name": "stdout",
     "output_type": "stream",
     "text": [
      "Sentiment Classification Accuracy: 0.8833819241982507\n",
      "Classification Report:\n",
      "               precision    recall  f1-score   support\n",
      "\n",
      "           0       0.74      0.74      0.74       231\n",
      "           1       0.93      0.92      0.92       798\n",
      "\n",
      "    accuracy                           0.88      1029\n",
      "   macro avg       0.83      0.83      0.83      1029\n",
      "weighted avg       0.88      0.88      0.88      1029\n",
      "\n"
     ]
    },
    {
     "data": {
      "image/png": "[encoded data removed]",
      "text/plain": [
       "<Figure size 432x288 with 2 Axes>"
      ]
     },
     "metadata": {
      "needs_background": "light"
     },
     "output_type": "display_data"
    }
   ],
   "source": [
    "# Filter dataset to only include positive and negative sentiment\n",
    "df_sentiment = df[df['vader_sentiment'] != 'Neutral emotion'].copy()\n",
    "\n",
    "# Define target labels (1 for Positive, 0 for Negative)\n",
    "y_sentiment = df_sentiment['vader_sentiment'].map({'Positive emotion': 1, 'Negative emotion': 0})\n",
    "\n",
    "# Feature extraction: Convert text into numerical features (TF-IDF)\n",
    "vectorizer = TfidfVectorizer(max_features=5000)\n",
    "X_sentiment = vectorizer.fit_transform(df_sentiment['clean_text'])  # Use raw text here\n",
    "\n",
    "# Split into training and test sets BEFORE oversampling\n",
    "X_train, X_test, y_train, y_test = train_test_split(X_sentiment, y_sentiment, test_size=0.2, random_state=42)\n",
    "\n",
    "# Apply RandomOverSampler to balance the dataset\n",
    "ros = RandomOverSampler(random_state=42)\n",
    "X_resampled, y_resampled = ros.fit_resample(X_train, y_train)\n",
    "\n",
    "# Initialize the logistic regression model\n",
    "model = LogisticRegression(max_iter=1000, random_state=42)\n",
    "\n",
    "model.fit(X_resampled, y_resampled)\n",
    "\n",
    "# Make predictions\n",
    "y_pred = model.predict(X_test)\n",
    "\n",
    "# Evaluate Model Performance\n",
    "print(\"Sentiment Classification Accuracy:\", accuracy_score(y_test, y_pred))\n",
    "print(\"Classification Report:\\n\", classification_report(y_test, y_pred))\n",
    "\n",
    "# Confusion Matrix\n",
    "cm = confusion_matrix(y_test, y_pred)\n",
    "disp = ConfusionMatrixDisplay(confusion_matrix=cm, display_labels=['Negative', 'Positive'])\n",
    "disp.plot(cmap='Blues')\n",
    "plt.title(\"Confusion Matrix - Sentiment Model (Balanced Data)\")\n",
    "plt.show()"
   ]
  },
  {
   "cell_type": "code",
   "execution_count": 197,
   "metadata": {
    "scrolled": false
   },
   "outputs": [
    {
     "name": "stdout",
     "output_type": "stream",
     "text": [
      "Sentiment Classification Accuracy: 0.8688046647230321\n",
      "Classification Report:\n",
      "               precision    recall  f1-score   support\n",
      "\n",
      "           0       0.70      0.74      0.72       231\n",
      "           1       0.92      0.91      0.91       798\n",
      "\n",
      "    accuracy                           0.87      1029\n",
      "   macro avg       0.81      0.82      0.82      1029\n",
      "weighted avg       0.87      0.87      0.87      1029\n",
      "\n"
     ]
    },
    {
     "data": {
      "image/png": "[encoded data removed]",
      "text/plain": [
       "<Figure size 432x288 with 2 Axes>"
      ]
     },
     "metadata": {
      "needs_background": "light"
     },
     "output_type": "display_data"
    }
   ],
   "source": [
    "#Initialize model\n",
    "model_MB = MultinomialNB()\n",
    "# Train model using resampled data\n",
    "model_MB.fit(X_resampled, y_resampled)\n",
    "\n",
    "y_pred_mb = model_MB.predict(X_test)\n",
    "# Evaluate Model Performance\n",
    "mb_accuracy = accuracy_score(y_test, y_pred_mb)\n",
    "mb_classification_report = classification_report(y_test, y_pred_mb, output_dict=True)\n",
    "\n",
    "# Evaluate Model Performance\n",
    "print(\"Sentiment Classification Accuracy:\", accuracy_score(y_test, y_pred_mb))\n",
    "print(\"Classification Report:\\n\", classification_report(y_test, y_pred_mb))\n",
    "# Convert classification report to DataFrame for display\n",
    "mb_classification_df = pd.DataFrame(mb_classification_report).transpose()\n",
    "\n",
    "# Confusion Matrix\n",
    "cm_mb = confusion_matrix(y_test, y_pred_mb)\n",
    "disp_mb = ConfusionMatrixDisplay(confusion_matrix=cm_mb, display_labels=['Negative', 'Positive'])\n",
    "\n",
    "# Plot confusion matrix\n",
    "disp_mb.plot(cmap='Blues')\n",
    "plt.title(\"Confusion Matrix - MultinomialNB Sentiment Model\")\n",
    "plt.show()"
   ]
  },
  {
   "cell_type": "code",
   "execution_count": 201,
   "metadata": {},
   "outputs": [
    {
     "name": "stdout",
     "output_type": "stream",
     "text": [
      "Sentiment Classification Accuracy: 0.8785228377065112\n",
      "\n",
      "Classification Report:\n",
      "               precision    recall  f1-score   support\n",
      "\n",
      "           0       0.80      0.61      0.69       231\n",
      "           1       0.90      0.95      0.92       798\n",
      "\n",
      "    accuracy                           0.88      1029\n",
      "   macro avg       0.85      0.78      0.81      1029\n",
      "weighted avg       0.87      0.88      0.87      1029\n",
      "\n"
     ]
    },
    {
     "data": {
      "image/png": "[encoded data removed]",
      "text/plain": [
       "<Figure size 432x288 with 2 Axes>"
      ]
     },
     "metadata": {
      "needs_background": "light"
     },
     "output_type": "display_data"
    }
   ],
   "source": [
    "# Initialize model\n",
    "model_RF = RandomForestClassifier(n_estimators=200, class_weight='balanced', random_state=42)\n",
    "\n",
    "# Train model using resampled data\n",
    "model_RF.fit(X_resampled, y_resampled)\n",
    "\n",
    "# Make predictions\n",
    "y_pred_rf = model_RF.predict(X_test)\n",
    "\n",
    "# Evaluate Model Performance\n",
    "rf_accuracy = accuracy_score(y_test, y_pred_rf)\n",
    "rf_classification_report = classification_report(y_test, y_pred_rf, output_dict=True)\n",
    "\n",
    "# Print evaluation metrics\n",
    "print(\"Sentiment Classification Accuracy:\", rf_accuracy)\n",
    "print(\"\\nClassification Report:\\n\", classification_report(y_test, y_pred_rf))\n",
    "\n",
    "# Convert classification report to DataFrame for display\n",
    "rf_classification_df = pd.DataFrame(rf_classification_report).transpose()\n",
    "\n",
    "# Confusion Matrix\n",
    "cm_rf = confusion_matrix(y_test, y_pred_rf)\n",
    "disp_rf = ConfusionMatrixDisplay(confusion_matrix=cm_rf, display_labels=['Negative', 'Positive'])\n",
    "\n",
    "# Plot confusion matrix\n",
    "disp_rf.plot(cmap='Blues')\n",
    "plt.title(\"Confusion Matrix - RandomForest Sentiment Model\")\n",
    "plt.show()\n"
   ]
  },
  {
   "cell_type": "markdown",
   "metadata": {},
   "source": [
    "## Evaluation"
   ]
  },
  {
   "cell_type": "markdown",
   "metadata": {},
   "source": [
    "My initial approach was to use keywords to create "
   ]
  },
  {
   "cell_type": "code",
   "execution_count": 189,
   "metadata": {},
   "outputs": [],
   "source": [
    "## "
   ]
  }
 ],
 "metadata": {
  "kernelspec": {
   "display_name": "Python (learn-env)",
   "language": "python",
   "name": "learn-env"
  },
  "language_info": {
   "codemirror_mode": {
    "name": "ipython",
    "version": 3
   },
   "file_extension": ".py",
   "mimetype": "text/x-python",
   "name": "python",
   "nbconvert_exporter": "python",
   "pygments_lexer": "ipython3",
   "version": "3.8.5"
  }
 },
 "nbformat": 4,
 "nbformat_minor": 4
}
